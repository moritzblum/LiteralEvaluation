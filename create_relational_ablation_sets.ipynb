{
 "cells": [
  {
   "cell_type": "code",
   "execution_count": 1,
   "metadata": {
    "collapsed": true
   },
   "outputs": [],
   "source": [
    "import json\n",
    "import pandas as pd\n",
    "\n",
    "import collections\n",
    "import numpy as np"
   ]
  },
  {
   "cell_type": "code",
   "execution_count": 225,
   "outputs": [],
   "source": [
    "uri_2_freq = []\n",
    "triples = []\n",
    "\n",
    "with open('./data/FB15k-237/train.txt') as train_in:\n",
    "    for line in train_in:\n",
    "        triple = line.rstrip().split('\\t')\n",
    "        uri_2_freq.extend(triple)\n",
    "        triples.append(triple)\n",
    "uri_2_freq = collections.Counter(uri_2_freq)\n",
    "num_triples = len(triples)"
   ],
   "metadata": {
    "collapsed": false
   }
  },
  {
   "cell_type": "code",
   "execution_count": 226,
   "outputs": [],
   "source": [
    "permuted_triples = [triples[i] for i in np.random.permutation(np.arange(0,num_triples))]"
   ],
   "metadata": {
    "collapsed": false
   }
  },
  {
   "cell_type": "code",
   "execution_count": 227,
   "outputs": [],
   "source": [
    "del_frac = 0.9\n",
    "del_frac_label = '90'\n",
    "del_num = int(del_frac * num_triples)"
   ],
   "metadata": {
    "collapsed": false
   }
  },
  {
   "cell_type": "code",
   "execution_count": 228,
   "outputs": [],
   "source": [
    "triples_maintained = []\n",
    "\n",
    "for head, relation, tail in permuted_triples:\n",
    "\n",
    "    if del_num >= 1 and uri_2_freq[head] > 1 and uri_2_freq[relation] > 1 and uri_2_freq[tail] > 1:\n",
    "        del_num -= 1\n",
    "        continue\n",
    "    else:\n",
    "        triples_maintained.append([head, relation, tail])"
   ],
   "metadata": {
    "collapsed": false
   }
  },
  {
   "cell_type": "code",
   "execution_count": 229,
   "outputs": [],
   "source": [
    "with open(f'./data/FB15k-237/train_pruned_1_{del_frac_label}.txt', 'w') as pruned_out:\n",
    "    for triple in triples_maintained:\n",
    "        pruned_out.write('\\t'.join(triple) + '\\n')"
   ],
   "metadata": {
    "collapsed": false
   }
  },
  {
   "cell_type": "code",
   "execution_count": 229,
   "outputs": [],
   "source": [],
   "metadata": {
    "collapsed": false
   }
  },
  {
   "cell_type": "code",
   "execution_count": 229,
   "outputs": [],
   "source": [],
   "metadata": {
    "collapsed": false
   }
  },
  {
   "cell_type": "code",
   "execution_count": 84,
   "outputs": [],
   "source": [],
   "metadata": {
    "collapsed": false
   }
  }
 ],
 "metadata": {
  "kernelspec": {
   "display_name": "Python 3",
   "language": "python",
   "name": "python3"
  },
  "language_info": {
   "codemirror_mode": {
    "name": "ipython",
    "version": 2
   },
   "file_extension": ".py",
   "mimetype": "text/x-python",
   "name": "python",
   "nbconvert_exporter": "python",
   "pygments_lexer": "ipython2",
   "version": "2.7.6"
  }
 },
 "nbformat": 4,
 "nbformat_minor": 0
}
