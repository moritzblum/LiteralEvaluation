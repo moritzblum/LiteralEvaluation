{
 "cells": [
  {
   "cell_type": "code",
   "execution_count": 29,
   "metadata": {
    "collapsed": true
   },
   "outputs": [],
   "source": [
    "relations = []\n",
    "\n",
    "with open('./data/FB15k-237/literals/numerical_literals.txt', 'r') as f:\n",
    "    for line in f:\n",
    "        head, relation, literal = line.strip().split('\\t')\n",
    "        relations.append(relation)"
   ]
  },
  {
   "cell_type": "code",
   "execution_count": 30,
   "outputs": [],
   "source": [
    "from collections import Counter\n",
    "\n",
    "relation_counter = Counter(relations)"
   ],
   "metadata": {
    "collapsed": false
   }
  },
  {
   "cell_type": "code",
   "execution_count": 31,
   "outputs": [
    {
     "data": {
      "text/plain": "Counter({'http://rdf.freebase.com/ns/topic_server.population_number': 52764,\n         'http://rdf.freebase.com/ns/people.person.height_meters': 2871,\n         'http://rdf.freebase.com/ns/location.location.area': 2166,\n         'http://rdf.freebase.com/ns/film.film.netflix_id': 1883,\n         'http://rdf.freebase.com/ns/organization.organization.date_founded': 844,\n         'http://rdf.freebase.com/ns/user.robert.default_domain.rated_film.ew_rating': 739,\n         'http://rdf.freebase.com/ns/location.location.gnis_feature_id': 645,\n         'http://rdf.freebase.com/ns/sports.sports_team.founded': 643,\n         'http://rdf.freebase.com/ns/location.hud_county_place.countyplace_id': 568,\n         'http://rdf.freebase.com/ns/tv.tv_program.episode_running_time': 493,\n         'http://rdf.freebase.com/ns/location.dated_location.date_founded': 478,\n         'http://rdf.freebase.com/ns/location.statistical_region.hud_id': 462,\n         'http://rdf.freebase.com/ns/award.award_category.date_established': 372,\n         'http://rdf.freebase.com/ns/tv.tv_program.thetvdb_id': 281,\n         'http://rdf.freebase.com/ns/tv.tv_program.tvrage_id': 275,\n         'http://rdf.freebase.com/ns/music.artist.active_start': 274,\n         'http://rdf.freebase.com/ns/tv.tv_program.number_of_episodes': 264,\n         'http://rdf.freebase.com/ns/base.popstra.sww_base.heat': 250,\n         'http://rdf.freebase.com/ns/base.popstra.sww_base.interest': 248,\n         'http://rdf.freebase.com/ns/tv.tv_program.number_of_seasons': 237,\n         'http://rdf.freebase.com/ns/user.brendan.default_domain.top_architectural_city.structure_count': 237,\n         'http://rdf.freebase.com/ns/location.country.calling_code': 226,\n         'http://rdf.freebase.com/ns/people.person.weight_kg': 226,\n         'http://rdf.freebase.com/ns/location.country.iso_numeric': 216,\n         'http://rdf.freebase.com/ns/people.person.quotationsbook_id': 195,\n         'http://www.w3.org/2000/01/rdf-schema#label': 139,\n         'http://rdf.freebase.com/ns/type.object.name': 139,\n         'http://rdf.freebase.com/ns/film.film.fandango_id': 139,\n         'http://rdf.freebase.com/ns/user.robert.default_domain.rated_tv_program.ew_rating': 100,\n         'http://rdf.freebase.com/ns/people.person.date_of_birth': 71,\n         'http://rdf.freebase.com/ns/food.nutrient.usda_id': 70,\n         'http://rdf.freebase.com/ns/award.award_category.date_discontinued': 67,\n         'http://rdf.freebase.com/ns/music.artist.active_end': 64,\n         'http://rdf.freebase.com/ns/location.dated_location.date_dissolved': 63,\n         'http://rdf.freebase.com/ns/location.location.gns_ufi': 61,\n         'http://rdf.freebase.com/ns/tv.tv_program.tvguide_id': 49,\n         'http://rdf.freebase.com/ns/time.event.start_date': 48,\n         'http://rdf.freebase.com/ns/chemistry.chemical_compound.average_molar_mass': 47,\n         'http://rdf.freebase.com/ns/chemistry.chemical_compound.pubchem_id': 46,\n         'http://rdf.freebase.com/ns/common.identity.sfiff_id': 45,\n         'http://rdf.freebase.com/ns/olympics.olympic_games.number_of_athletes': 43,\n         'http://rdf.freebase.com/ns/olympics.olympic_games.number_of_countries': 43,\n         'http://rdf.freebase.com/ns/olympics.olympic_games.number_of_events': 42,\n         'http://rdf.freebase.com/ns/base.usnris.nris_listing.significant_year': 41,\n         'http://rdf.freebase.com/ns/government.us_president.presidency_number': 35,\n         'http://rdf.freebase.com/ns/business.industry.naics_2007': 35,\n         'http://rdf.freebase.com/ns/base.instantencore.topic.instantencore_id': 33,\n         'http://rdf.freebase.com/ns/medicine.icd_9_cm_classification.code': 33,\n         'http://rdf.freebase.com/ns/film.film.initial_release_date': 31,\n         'http://rdf.freebase.com/ns/sports.pro_athlete.career_start': 30,\n         'http://rdf.freebase.com/ns/time.event.end_date': 29,\n         'http://rdf.freebase.com/ns/business.defunct_company.ceased_operations': 29,\n         'http://rdf.freebase.com/ns/base.usnris.nris_listing.item_number': 26,\n         'http://rdf.freebase.com/ns/location.uk_statistical_location.ons_code': 26,\n         'http://rdf.freebase.com/ns/chemistry.chemical_compound.density': 24,\n         'http://rdf.freebase.com/ns/chemistry.chemical_compound.melting_point': 24,\n         'http://rdf.freebase.com/ns/common.topic.alias': 23,\n         'http://rdf.freebase.com/ns/biology.organism_classification.ncbi_taxon_id': 23,\n         'http://rdf.freebase.com/ns/user.avh.default_domain.ellerdale_topic.ellerdale_id': 22,\n         'http://rdf.freebase.com/ns/food.food.energy': 22,\n         'http://rdf.freebase.com/ns/food.food.usda_equivalent': 22,\n         'http://rdf.freebase.com/ns/base.schemastaging.location_extra.elevation_min': 22,\n         'http://rdf.freebase.com/ns/sports.sports_league_draft.year': 20,\n         'http://rdf.freebase.com/ns/biology.organism_classification.itis_tsn': 19,\n         'http://rdf.freebase.com/ns/food.food.usda_id': 19,\n         'http://rdf.freebase.com/ns/base.saturdaynightlive.snl_fiver_timer.number_of_appearances': 18,\n         'http://rdf.freebase.com/ns/location.fr_department.code_insee': 18,\n         'http://rdf.freebase.com/ns/tv.tv_series_episode.episode_number': 16,\n         'http://rdf.freebase.com/ns/chemistry.chemical_compound.boiling_point': 14,\n         'http://rdf.freebase.com/ns/tv.tv_series_episode.season_number': 14,\n         'http://rdf.freebase.com/ns/film.film.rottentomatoes_id': 13,\n         'http://rdf.freebase.com/ns/royalty.royal_line.ruled_from': 13,\n         'http://rdf.freebase.com/ns/time.month.number_of_days_in_month': 13,\n         'http://rdf.freebase.com/ns/visual_art.art_period_movement.began_approximately': 13,\n         'http://rdf.freebase.com/ns/location.location.area_land': 13,\n         'http://rdf.freebase.com/ns/time.time_zone.offset_from_uct': 13,\n         'http://rdf.freebase.com/ns/government.us_vice_president.vice_president_number': 12,\n         'http://rdf.freebase.com/ns/time.month.month_number': 12,\n         'http://rdf.freebase.com/ns/user.ameroamigo.default_domain.federal_reserve_bank.number': 12,\n         'http://rdf.freebase.com/ns/base.schemastaging.location_extra.elevation_max': 11,\n         'http://rdf.freebase.com/ns/tv.tv_program.air_date_of_first_episode': 10,\n         'http://rdf.freebase.com/ns/computer.programming_language.introduced': 10,\n         'http://rdf.freebase.com/ns/education.school.nces_school_id': 10,\n         'http://rdf.freebase.com/ns/chemistry.chemical_element.atomic_number': 10,\n         'http://rdf.freebase.com/ns/chemistry.chemical_element.boiling_point': 10,\n         'http://rdf.freebase.com/ns/chemistry.chemical_element.covalent_radius': 10,\n         'http://rdf.freebase.com/ns/chemistry.chemical_element.electronegativity': 10,\n         'http://rdf.freebase.com/ns/chemistry.chemical_element.ionization_energy': 10,\n         'http://rdf.freebase.com/ns/chemistry.chemical_element.melting_point': 10,\n         'http://rdf.freebase.com/ns/chemistry.chemical_element.van_der_waals_radius': 10,\n         'http://rdf.freebase.com/ns/time.time_zone.dst_offset_from_utc': 10,\n         'http://rdf.freebase.com/ns/geography.river.length': 9,\n         'http://rdf.freebase.com/ns/time.recurring_event.date_of_first_occurance': 9,\n         'http://rdf.freebase.com/ns/book.publishing_company.isfdb_id': 9,\n         'http://rdf.freebase.com/ns/royalty.royal_line.ruled_to': 9,\n         'http://rdf.freebase.com/ns/architecture.architect.structure_count': 9,\n         'http://rdf.freebase.com/ns/chemistry.chemical_element.discovery_date': 9,\n         'http://rdf.freebase.com/ns/user.aurametrix.default_domain.vitamin.daily_value': 8,\n         'http://rdf.freebase.com/ns/geography.river.basin_area': 8,\n         'http://rdf.freebase.com/ns/geography.river.discharge': 8,\n         'http://rdf.freebase.com/ns/geography.river.source_elevation': 8,\n         'http://rdf.freebase.com/ns/visual_art.art_period_movement.ended_approximately': 8,\n         'http://rdf.freebase.com/ns/geography.body_of_water.depth': 8,\n         'http://rdf.freebase.com/ns/location.us_cbsa.cbsa_id': 8,\n         'http://rdf.freebase.com/ns/user.dylanrocks.national_football_league.nfl_teams_that_have_moved_cities.first_season': 8,\n         'http://rdf.freebase.com/ns/location.location.mean_elevation': 8,\n         'http://rdf.freebase.com/ns/sports.pro_athlete.career_end': 7,\n         'http://rdf.freebase.com/ns/architecture.structure.construction_started': 7,\n         'http://rdf.freebase.com/ns/tennis.tennis_player.year_turned_pro': 7,\n         'http://rdf.freebase.com/ns/aviation.airport.number_of_runways': 7,\n         'http://rdf.freebase.com/ns/fictional_universe.fictional_character.weight': 7,\n         'http://rdf.freebase.com/ns/tv.tv_series_season.season_number': 6,\n         'http://rdf.freebase.com/ns/tv.tv_series_season.number_of_episodes': 6,\n         'http://rdf.freebase.com/ns/tv.tv_series_season.thetvdb_id': 6,\n         'http://rdf.freebase.com/ns/user.robert.us_congress.us_representative.district_number': 6,\n         'http://rdf.freebase.com/ns/base.schemastaging.tennis_player_extra.doubles_grand_slams': 6,\n         'http://rdf.freebase.com/ns/architecture.structure.opened': 6,\n         'http://rdf.freebase.com/ns/architecture.museum.established': 6,\n         'http://rdf.freebase.com/ns/geography.body_of_water.mean_depth': 6,\n         'http://rdf.freebase.com/ns/geography.body_of_water.surface_area': 6,\n         'http://rdf.freebase.com/ns/fictional_universe.fictional_character.height': 6})"
     },
     "execution_count": 31,
     "metadata": {},
     "output_type": "execute_result"
    }
   ],
   "source": [
    "relation_counter"
   ],
   "metadata": {
    "collapsed": false
   }
  },
  {
   "cell_type": "code",
   "execution_count": 32,
   "outputs": [],
   "source": [
    "relation_uris = relation_counter.keys()"
   ],
   "metadata": {
    "collapsed": false
   }
  },
  {
   "cell_type": "code",
   "execution_count": 33,
   "outputs": [
    {
     "data": {
      "text/plain": "121"
     },
     "execution_count": 33,
     "metadata": {},
     "output_type": "execute_result"
    }
   ],
   "source": [
    "len(relation_uris)"
   ],
   "metadata": {
    "collapsed": false
   }
  },
  {
   "cell_type": "code",
   "execution_count": 34,
   "outputs": [],
   "source": [
    "relation_uris_id = [i for i in relation_uris if 'id' in i]"
   ],
   "metadata": {
    "collapsed": false
   }
  },
  {
   "cell_type": "code",
   "execution_count": 35,
   "outputs": [
    {
     "data": {
      "text/plain": "23"
     },
     "execution_count": 35,
     "metadata": {},
     "output_type": "execute_result"
    }
   ],
   "source": [
    "len(relation_uris_id)"
   ],
   "metadata": {
    "collapsed": false
   }
  },
  {
   "cell_type": "code",
   "execution_count": 36,
   "outputs": [
    {
     "data": {
      "text/plain": "0.0690038003330629"
     },
     "execution_count": 36,
     "metadata": {},
     "output_type": "execute_result"
    }
   ],
   "source": [
    "sum([relation_counter[i] for i in relation_uris_id])/sum([relation_counter[i] for i in relation_uris])"
   ],
   "metadata": {
    "collapsed": false
   }
  },
  {
   "cell_type": "code",
   "execution_count": null,
   "outputs": [],
   "source": [],
   "metadata": {
    "collapsed": false
   }
  }
 ],
 "metadata": {
  "kernelspec": {
   "display_name": "Python 3",
   "language": "python",
   "name": "python3"
  },
  "language_info": {
   "codemirror_mode": {
    "name": "ipython",
    "version": 2
   },
   "file_extension": ".py",
   "mimetype": "text/x-python",
   "name": "python",
   "nbconvert_exporter": "python",
   "pygments_lexer": "ipython2",
   "version": "2.7.6"
  }
 },
 "nbformat": 4,
 "nbformat_minor": 0
}
