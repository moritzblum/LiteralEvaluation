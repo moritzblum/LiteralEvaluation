{
 "cells": [
  {
   "cell_type": "code",
   "execution_count": 169,
   "metadata": {
    "collapsed": true
   },
   "outputs": [],
   "source": [
    "import pandas as pd"
   ]
  },
  {
   "cell_type": "code",
   "execution_count": 170,
   "outputs": [],
   "source": [
    "result_file = 'saved_models/ranks_test_evaluation_ComplEx_0.2_0.0_literal_Synthetic_numerical_literals_train.tsv'\n",
    "dataset_name = 'Synthetic'\n",
    "\n",
    "# should not be modified\n",
    "value_relation = '/m/is_a'\n",
    "category_a = '/m/high'\n",
    "category_b = '/m/low'"
   ],
   "metadata": {
    "collapsed": false
   }
  },
  {
   "cell_type": "code",
   "execution_count": 189,
   "outputs": [],
   "source": [
    "# read the results (only value_relation triples are relevant for the evaluation, therefore we filter the dataframe)\n",
    "df_results = pd.read_csv(result_file, sep='\\t', header=None,  names=[\"head\", \"relation\", \"tail\", \"rank head\", \"rank tail\", \"score\"])\n",
    "df_results = df_results[df_results['relation']==value_relation]"
   ],
   "metadata": {
    "collapsed": false
   }
  },
  {
   "cell_type": "code",
   "execution_count": 190,
   "outputs": [],
   "source": [
    "# read the true literal values that are used to classify into the two categories (the file should only contain one literal relation type)\n",
    "df_literals = pd.read_csv(f'data/{dataset_name}/literals/numerical_literals.txt', sep='\\t', header=None,  names=[\"head\", \"relation\", \"literal\"])"
   ],
   "metadata": {
    "collapsed": false
   }
  },
  {
   "cell_type": "code",
   "execution_count": 219,
   "outputs": [],
   "source": [
    "# derive human entities from the class mapping file\n",
    "class_mapping_df = pd.read_csv('FB15k-237_class_mapping.csv', sep=';', header=0)\n",
    "human_uris = class_mapping_df[class_mapping_df[\"class_label\"] == \"human\"][\"dataset_entity\"]"
   ],
   "metadata": {
    "collapsed": false
   }
  },
  {
   "cell_type": "code",
   "execution_count": 222,
   "outputs": [
    {
     "data": {
      "text/plain": "             head      relation   literal\n3       /m/01sl1q  /m/has_value  0.284997\n6       /m/07nznf  /m/has_value  0.414713\n8        /m/0q9kd  /m/has_value  0.379819\n15      /m/04bdxl  /m/has_value  0.303381\n17       /m/079vf  /m/has_value  0.983388\n...           ...           ...       ...\n13503   /m/09f5pp  /m/has_value  0.790471\n13647   /m/0glyyw  /m/has_value  0.686262\n13704    /m/06rkl  /m/has_value  0.418615\n13717  /m/02p59ry  /m/has_value  0.224405\n14032   /m/01hbgs  /m/has_value  0.154805\n\n[4505 rows x 3 columns]",
      "text/html": "<div>\n<style scoped>\n    .dataframe tbody tr th:only-of-type {\n        vertical-align: middle;\n    }\n\n    .dataframe tbody tr th {\n        vertical-align: top;\n    }\n\n    .dataframe thead th {\n        text-align: right;\n    }\n</style>\n<table border=\"1\" class=\"dataframe\">\n  <thead>\n    <tr style=\"text-align: right;\">\n      <th></th>\n      <th>head</th>\n      <th>relation</th>\n      <th>literal</th>\n    </tr>\n  </thead>\n  <tbody>\n    <tr>\n      <th>3</th>\n      <td>/m/01sl1q</td>\n      <td>/m/has_value</td>\n      <td>0.284997</td>\n    </tr>\n    <tr>\n      <th>6</th>\n      <td>/m/07nznf</td>\n      <td>/m/has_value</td>\n      <td>0.414713</td>\n    </tr>\n    <tr>\n      <th>8</th>\n      <td>/m/0q9kd</td>\n      <td>/m/has_value</td>\n      <td>0.379819</td>\n    </tr>\n    <tr>\n      <th>15</th>\n      <td>/m/04bdxl</td>\n      <td>/m/has_value</td>\n      <td>0.303381</td>\n    </tr>\n    <tr>\n      <th>17</th>\n      <td>/m/079vf</td>\n      <td>/m/has_value</td>\n      <td>0.983388</td>\n    </tr>\n    <tr>\n      <th>...</th>\n      <td>...</td>\n      <td>...</td>\n      <td>...</td>\n    </tr>\n    <tr>\n      <th>13503</th>\n      <td>/m/09f5pp</td>\n      <td>/m/has_value</td>\n      <td>0.790471</td>\n    </tr>\n    <tr>\n      <th>13647</th>\n      <td>/m/0glyyw</td>\n      <td>/m/has_value</td>\n      <td>0.686262</td>\n    </tr>\n    <tr>\n      <th>13704</th>\n      <td>/m/06rkl</td>\n      <td>/m/has_value</td>\n      <td>0.418615</td>\n    </tr>\n    <tr>\n      <th>13717</th>\n      <td>/m/02p59ry</td>\n      <td>/m/has_value</td>\n      <td>0.224405</td>\n    </tr>\n    <tr>\n      <th>14032</th>\n      <td>/m/01hbgs</td>\n      <td>/m/has_value</td>\n      <td>0.154805</td>\n    </tr>\n  </tbody>\n</table>\n<p>4505 rows × 3 columns</p>\n</div>"
     },
     "execution_count": 222,
     "metadata": {},
     "output_type": "execute_result"
    }
   ],
   "source": [
    "df_literals[df_literals['head'].isin(human_uris.to_list())]"
   ],
   "metadata": {
    "collapsed": false
   }
  },
  {
   "cell_type": "code",
   "execution_count": 223,
   "outputs": [],
   "source": [
    "def get_scores_for_certain_tail(tail_entity):\n",
    "    related_scores = pd.merge(df_literals[df_literals['head'].isin(human_uris.to_list())], df_results[df_results[\"tail\"]==tail_entity][['head', 'score']], left_on='head', right_on='head')\n",
    "    related_scores = related_scores.rename(columns={ 'score': f'score {tail_entity}' })\n",
    "    return related_scores"
   ],
   "metadata": {
    "collapsed": false
   }
  },
  {
   "cell_type": "code",
   "execution_count": 225,
   "outputs": [],
   "source": [
    "a = get_scores_for_certain_tail(category_a)\n",
    "b = get_scores_for_certain_tail(category_b)\n",
    "\n",
    "merged = pd.merge(a, b)"
   ],
   "metadata": {
    "collapsed": false
   }
  },
  {
   "cell_type": "code",
   "execution_count": 228,
   "outputs": [
    {
     "data": {
      "text/plain": "          head      relation   literal  score /m/high  score /m/low\n0     /m/079vf  /m/has_value  0.983388       0.581661      0.724532\n1    /m/05d7rk  /m/has_value  0.052213       0.341893      0.357488\n2     /m/03qcq  /m/has_value  0.221566       0.615127      0.912245\n3    /m/01k7d9  /m/has_value  0.565050       0.659364      0.248403\n4     /m/06dv3  /m/has_value  0.711868       0.147361      0.917865\n..         ...           ...       ...            ...           ...\n670    /m/0k60  /m/has_value  0.736635       0.914300      0.788354\n671  /m/038nv6  /m/has_value  0.214328       0.254681      0.032972\n672  /m/09_2gj  /m/has_value  0.358785       0.626478      0.210967\n673  /m/011k4g  /m/has_value  0.285680       0.350715      0.668902\n674  /m/09f5pp  /m/has_value  0.790471       0.315606      0.789494\n\n[675 rows x 5 columns]",
      "text/html": "<div>\n<style scoped>\n    .dataframe tbody tr th:only-of-type {\n        vertical-align: middle;\n    }\n\n    .dataframe tbody tr th {\n        vertical-align: top;\n    }\n\n    .dataframe thead th {\n        text-align: right;\n    }\n</style>\n<table border=\"1\" class=\"dataframe\">\n  <thead>\n    <tr style=\"text-align: right;\">\n      <th></th>\n      <th>head</th>\n      <th>relation</th>\n      <th>literal</th>\n      <th>score /m/high</th>\n      <th>score /m/low</th>\n    </tr>\n  </thead>\n  <tbody>\n    <tr>\n      <th>0</th>\n      <td>/m/079vf</td>\n      <td>/m/has_value</td>\n      <td>0.983388</td>\n      <td>0.581661</td>\n      <td>0.724532</td>\n    </tr>\n    <tr>\n      <th>1</th>\n      <td>/m/05d7rk</td>\n      <td>/m/has_value</td>\n      <td>0.052213</td>\n      <td>0.341893</td>\n      <td>0.357488</td>\n    </tr>\n    <tr>\n      <th>2</th>\n      <td>/m/03qcq</td>\n      <td>/m/has_value</td>\n      <td>0.221566</td>\n      <td>0.615127</td>\n      <td>0.912245</td>\n    </tr>\n    <tr>\n      <th>3</th>\n      <td>/m/01k7d9</td>\n      <td>/m/has_value</td>\n      <td>0.565050</td>\n      <td>0.659364</td>\n      <td>0.248403</td>\n    </tr>\n    <tr>\n      <th>4</th>\n      <td>/m/06dv3</td>\n      <td>/m/has_value</td>\n      <td>0.711868</td>\n      <td>0.147361</td>\n      <td>0.917865</td>\n    </tr>\n    <tr>\n      <th>...</th>\n      <td>...</td>\n      <td>...</td>\n      <td>...</td>\n      <td>...</td>\n      <td>...</td>\n    </tr>\n    <tr>\n      <th>670</th>\n      <td>/m/0k60</td>\n      <td>/m/has_value</td>\n      <td>0.736635</td>\n      <td>0.914300</td>\n      <td>0.788354</td>\n    </tr>\n    <tr>\n      <th>671</th>\n      <td>/m/038nv6</td>\n      <td>/m/has_value</td>\n      <td>0.214328</td>\n      <td>0.254681</td>\n      <td>0.032972</td>\n    </tr>\n    <tr>\n      <th>672</th>\n      <td>/m/09_2gj</td>\n      <td>/m/has_value</td>\n      <td>0.358785</td>\n      <td>0.626478</td>\n      <td>0.210967</td>\n    </tr>\n    <tr>\n      <th>673</th>\n      <td>/m/011k4g</td>\n      <td>/m/has_value</td>\n      <td>0.285680</td>\n      <td>0.350715</td>\n      <td>0.668902</td>\n    </tr>\n    <tr>\n      <th>674</th>\n      <td>/m/09f5pp</td>\n      <td>/m/has_value</td>\n      <td>0.790471</td>\n      <td>0.315606</td>\n      <td>0.789494</td>\n    </tr>\n  </tbody>\n</table>\n<p>675 rows × 5 columns</p>\n</div>"
     },
     "execution_count": 228,
     "metadata": {},
     "output_type": "execute_result"
    }
   ],
   "source": [
    "merged"
   ],
   "metadata": {
    "collapsed": false
   }
  },
  {
   "cell_type": "markdown",
   "source": [],
   "metadata": {
    "collapsed": false
   }
  },
  {
   "cell_type": "code",
   "execution_count": 245,
   "outputs": [
    {
     "name": "stderr",
     "output_type": "stream",
     "text": [
      "/var/folders/vc/8d10xrmj0xj3v8g5_6zpmmkm0000gn/T/ipykernel_3184/647973516.py:1: UserWarning: Boolean Series key will be reindexed to match DataFrame index.\n",
      "  acc = (len(merged[merged['literal'] > 0.5][merged[f'score {category_a}'] > merged[f'score {category_b}']]) + len(merged[merged['literal'] <= 0.5][merged[f'score {category_a}'] < merged[f'score {category_b}']])) / len(merged)\n"
     ]
    }
   ],
   "source": [
    "acc = (len(merged[merged['literal'] > 0.5][merged[f'score {category_a}'] > merged[f'score {category_b}']]) + len(merged[merged['literal'] <= 0.5][merged[f'score {category_a}'] < merged[f'score {category_b}']])) / len(merged)"
   ],
   "metadata": {
    "collapsed": false
   }
  },
  {
   "cell_type": "markdown",
   "source": [
    "todo: update formular\n",
    "\n",
    "$ acc = | \\lbrace   (s, \\text{has value}, \\text{high}) |  f((s,\\text{has value}, \\text{high})) > f((\\text{has value}, \\text{low}))  \\land l > 0.5        \\rbrace     |     $"
   ],
   "metadata": {
    "collapsed": false
   }
  },
  {
   "cell_type": "code",
   "execution_count": 246,
   "outputs": [
    {
     "data": {
      "text/plain": "0.522962962962963"
     },
     "execution_count": 246,
     "metadata": {},
     "output_type": "execute_result"
    }
   ],
   "source": [
    "acc"
   ],
   "metadata": {
    "collapsed": false
   }
  },
  {
   "cell_type": "code",
   "execution_count": 276,
   "outputs": [],
   "source": [
    "# filter dataframes to only contain the relevant entities\n",
    "no_human_results = df_results[~df_results['head'].isin(human_uris.to_list())]\n",
    "human_results = df_results[df_results['head'].isin(human_uris.to_list())]"
   ],
   "metadata": {
    "collapsed": false
   }
  },
  {
   "cell_type": "code",
   "execution_count": 277,
   "outputs": [],
   "source": [
    "# compute MR for human and non-human entities\n",
    "mr_no_human = no_human_results[no_human_results['relation']==value_relation]['rank tail'].mean()\n",
    "mr_human = human_results[human_results['relation']==value_relation]['rank tail'].mean()\n",
    "\n",
    "mr_diff = mr_no_human - mr_human"
   ],
   "metadata": {
    "collapsed": false
   }
  },
  {
   "cell_type": "markdown",
   "source": [
    "todo: update formular\n",
    "$MR_{diff} = \\frac{\\sum_{(s,p,o) \\in G_{\\neg human}}  r(s,p,o)    }{ |G_{\\neg human}|}      -        \\frac{\\sum_{(s,p,o) \\in G_{human}}  r(s,p,o)    }{ |G_{human}|}  $"
   ],
   "metadata": {
    "collapsed": false
   }
  },
  {
   "cell_type": "code",
   "execution_count": 279,
   "outputs": [
    {
     "data": {
      "text/plain": "5816.098246187365"
     },
     "execution_count": 279,
     "metadata": {},
     "output_type": "execute_result"
    }
   ],
   "source": [
    "mr_diff"
   ],
   "metadata": {
    "collapsed": false
   }
  },
  {
   "cell_type": "code",
   "execution_count": null,
   "outputs": [],
   "source": [],
   "metadata": {
    "collapsed": false
   }
  }
 ],
 "metadata": {
  "kernelspec": {
   "display_name": "Python 3",
   "language": "python",
   "name": "python3"
  },
  "language_info": {
   "codemirror_mode": {
    "name": "ipython",
    "version": 2
   },
   "file_extension": ".py",
   "mimetype": "text/x-python",
   "name": "python",
   "nbconvert_exporter": "python",
   "pygments_lexer": "ipython2",
   "version": "2.7.6"
  }
 },
 "nbformat": 4,
 "nbformat_minor": 0
}
