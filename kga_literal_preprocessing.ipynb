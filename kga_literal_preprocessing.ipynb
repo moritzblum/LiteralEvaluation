{
 "cells": [
  {
   "cell_type": "code",
   "execution_count": 10,
   "metadata": {
    "collapsed": true
   },
   "outputs": [],
   "source": [
    "import random"
   ]
  },
  {
   "cell_type": "markdown",
   "source": [
    "## Random Literal Ablation"
   ],
   "metadata": {
    "collapsed": false
   }
  },
  {
   "cell_type": "code",
   "execution_count": 17,
   "outputs": [
    {
     "name": "stdout",
     "output_type": "stream",
     "text": [
      "num entities: 47998\n",
      "num attributive relations: 246\n"
     ]
    }
   ],
   "source": [
    "dataset = 'LitWD48K' #'YAGO3-10'  #'Synthetic'  #'FB15k-237'\n",
    "literal_file_name = 'numerical_literals_decimal.txt'  #'numerical_literals.txt'\n",
    "\n",
    "entities = set()\n",
    "for split in ['train', 'valid', 'test']:\n",
    "    with open(f'data/{dataset}/{split}.txt') as f:\n",
    "        for line in f:\n",
    "            head, rel, tail = line.strip().split('\\t')\n",
    "            entities.add(head)\n",
    "            entities.add(tail)\n",
    "\n",
    "attributive_relations = set()\n",
    "with open(f'data/{dataset}/literals/{literal_file_name}') as f:\n",
    "    for line in f:\n",
    "        head, rel, tail = line.strip().split('\\t')\n",
    "        attributive_relations.add(rel)\n",
    "\n",
    "print('num entities:', len(entities))\n",
    "print('num attributive relations:', len(attributive_relations))\n",
    "\n",
    "with open(f'data/{dataset}/literals/rand_{literal_file_name}', 'w') as f:\n",
    "    for entity in entities:\n",
    "        for rel in attributive_relations:\n",
    "            f.write('\\t'.join([entity, rel, str(random.uniform(0, 1))]) + '\\n')"
   ],
   "metadata": {
    "collapsed": false
   }
  },
  {
   "cell_type": "markdown",
   "source": [],
   "metadata": {
    "collapsed": false
   }
  },
  {
   "cell_type": "code",
   "execution_count": 13,
   "outputs": [
    {
     "data": {
      "text/plain": "1"
     },
     "execution_count": 13,
     "metadata": {},
     "output_type": "execute_result"
    }
   ],
   "source": [],
   "metadata": {
    "collapsed": false
   }
  },
  {
   "cell_type": "code",
   "execution_count": 14,
   "outputs": [],
   "source": [],
   "metadata": {
    "collapsed": false
   }
  },
  {
   "cell_type": "code",
   "execution_count": null,
   "outputs": [],
   "source": [],
   "metadata": {
    "collapsed": false
   }
  }
 ],
 "metadata": {
  "kernelspec": {
   "display_name": "Python 3",
   "language": "python",
   "name": "python3"
  },
  "language_info": {
   "codemirror_mode": {
    "name": "ipython",
    "version": 2
   },
   "file_extension": ".py",
   "mimetype": "text/x-python",
   "name": "python",
   "nbconvert_exporter": "python",
   "pygments_lexer": "ipython2",
   "version": "2.7.6"
  }
 },
 "nbformat": 4,
 "nbformat_minor": 0
}
