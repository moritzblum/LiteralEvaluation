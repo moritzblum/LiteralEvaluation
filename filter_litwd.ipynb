{
 "cells": [
  {
   "cell_type": "code",
   "execution_count": 19,
   "metadata": {
    "collapsed": true
   },
   "outputs": [],
   "source": [
    "d = {}\n",
    "\n",
    "triples_decimal = []\n",
    "triples_double = []\n",
    "\n",
    "with open('data/LitWD48K/numeric_literals.txt', 'r') as f:\n",
    "    for line in f:\n",
    "        (head, relation, literal) = line.rstrip().split('\\t')\n",
    "        value, type = literal.split('^^')\n",
    "        value = value[1:-1]\n",
    "        if type not in d:\n",
    "            d[type] = []\n",
    "        d[type].append(value)\n",
    "\n",
    "\n",
    "        if type == '<http://www.w3.org/2001/XMLSchema#decimal>':\n",
    "            triples_decimal.append((head, relation, value))\n",
    "        elif type == '<http://www.w3.org/2001/XMLSchema#double>':\n",
    "            triples_double.append((head, relation, value))\n"
   ]
  },
  {
   "cell_type": "code",
   "execution_count": 20,
   "outputs": [
    {
     "data": {
      "text/plain": "dict_keys(['<http://www.w3.org/2001/XMLSchema#decimal>', '<http://www.w3.org/2001/XMLSchema#dateTime>', '<http://www.w3.org/2001/XMLSchema#double>'])"
     },
     "execution_count": 20,
     "metadata": {},
     "output_type": "execute_result"
    }
   ],
   "source": [
    "d.keys()"
   ],
   "metadata": {
    "collapsed": false
   }
  },
  {
   "cell_type": "code",
   "execution_count": 21,
   "outputs": [
    {
     "name": "stdout",
     "output_type": "stream",
     "text": [
      "decimal 148707\n",
      "dateTime 57633\n",
      "double 118078\n"
     ]
    }
   ],
   "source": [
    "print('decimal', len(d['<http://www.w3.org/2001/XMLSchema#decimal>']))\n",
    "print('dateTime', len(d['<http://www.w3.org/2001/XMLSchema#dateTime>']))\n",
    "print('double', len(d['<http://www.w3.org/2001/XMLSchema#double>']))"
   ],
   "metadata": {
    "collapsed": false
   }
  },
  {
   "cell_type": "code",
   "execution_count": 23,
   "outputs": [],
   "source": [
    "with open('data/LitWD48K/numeric_literals_double.txt', 'w') as o:\n",
    "    for triple in triples_double:\n",
    "        o.write('\\t'.join(triple) + '\\n')\n",
    "\n",
    "with open('data/LitWD48K/numeric_literals_decimal.txt', 'w') as o:\n",
    "    for triple in triples_decimal:\n",
    "        o.write('\\t'.join(triple) + '\\n')"
   ],
   "metadata": {
    "collapsed": false
   }
  },
  {
   "cell_type": "code",
   "execution_count": null,
   "outputs": [],
   "source": [],
   "metadata": {
    "collapsed": false
   }
  }
 ],
 "metadata": {
  "kernelspec": {
   "display_name": "Python 3",
   "language": "python",
   "name": "python3"
  },
  "language_info": {
   "codemirror_mode": {
    "name": "ipython",
    "version": 2
   },
   "file_extension": ".py",
   "mimetype": "text/x-python",
   "name": "python",
   "nbconvert_exporter": "python",
   "pygments_lexer": "ipython2",
   "version": "2.7.6"
  }
 },
 "nbformat": 4,
 "nbformat_minor": 0
}
